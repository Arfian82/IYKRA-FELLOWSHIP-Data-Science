{
 "cells": [
  {
   "cell_type": "code",
   "execution_count": 1,
   "metadata": {},
   "outputs": [
    {
     "name": "stdout",
     "output_type": "stream",
     "text": [
      "Collecting psycopg2\n",
      "  Downloading psycopg2-2.8.5-cp37-cp37m-win_amd64.whl (1.1 MB)\n",
      "Installing collected packages: psycopg2\n",
      "Successfully installed psycopg2-2.8.5\n"
     ]
    }
   ],
   "source": [
    "!pip install psycopg2\n",
    "!pip install sqlalchemy"
   ]
  },
  {
   "cell_type": "markdown",
   "metadata": {},
   "source": [
    "# 1. PostgreSQL\n",
    "1.\tPlease make SQL queries to answer these questions and post them on your Github account!\n",
    "\n",
    "        a.\tA customer wants to know the films about “astronaut”. How many recommendations could you give for him?\n",
    "   \n",
    "       b.\tI wonder, how many films have a rating of “R” and a replacement cost between $5 and 15?\n",
    "    \n",
    "    c.\tWe have two staff members with staff IDs 1 and 2. We want to give a bonus to the staff member that handled the most payments. How many payments did each staff member handle? And how much was the total amount processed by each staff member?\n",
    "    \n",
    "    d.\tCorporate headquarters is auditing the store, they want to know the average replacement cost of movies by rating\n",
    "    \n",
    "    e.\tWe want to send coupons to the 5 customers who have spent the most amount of money. Get the customer name, email and their spent amount!\n",
    "    \n",
    "    f.\tWe want to audit our stock of films in all of our store. How many copies of each movie in each store do we have?\n",
    "    \n",
    "    g.\tWe want to know what customers are eligible for our platinum credit card. The requirements are that the customer has at least a total of 40 transaction payments. Get the customer name, email who are eligible for the credit card!\n"
   ]
  },
  {
   "cell_type": "code",
   "execution_count": 8,
   "metadata": {},
   "outputs": [],
   "source": [
    "import psycopg2\n",
    "from pandas import DataFrame\n",
    "databases = psycopg2.connect(user = \"postgres\",\n",
    "                              password ='******',\n",
    "                              host = \"127.0.0.1\",\n",
    "                              port = \"5432\",\n",
    "                              database = \"dvdrental\")"
   ]
  },
  {
   "cell_type": "code",
   "execution_count": 13,
   "metadata": {},
   "outputs": [],
   "source": [
    "connection = databases.cursor()"
   ]
  },
  {
   "cell_type": "markdown",
   "metadata": {},
   "source": [
    "a.\tA customer wants to know the films about “astronaut”. How many recommendations could you give for him?"
   ]
  },
  {
   "cell_type": "code",
   "execution_count": 21,
   "metadata": {},
   "outputs": [
    {
     "name": "stdout",
     "output_type": "stream",
     "text": [
      "There are 78 film recommendations about astronaut\n"
     ]
    }
   ],
   "source": [
    "#Koneksikan script dengan database\n",
    "connection = databases.cursor()\n",
    "#Eksekusi kode untuk melihat semua isi tabel\n",
    "connection.execute(\"select count(film_id) from film where description like '%Astronaut%'\")\n",
    "myresult = connection.fetchall()\n",
    "\n",
    "for x in myresult:\n",
    "  print(f\"There are {x[0]} film recommendations about astronaut\")"
   ]
  },
  {
   "cell_type": "markdown",
   "metadata": {},
   "source": [
    "b.\tI wonder, how many films have a rating of “R” and a replacement cost between $5 and 15?"
   ]
  },
  {
   "cell_type": "code",
   "execution_count": 23,
   "metadata": {},
   "outputs": [
    {
     "name": "stdout",
     "output_type": "stream",
     "text": [
      "the numbers of film which has a rating of 'R' and a replacement cose between $5 and $15 are: 52\n"
     ]
    }
   ],
   "source": [
    "#Koneksikan script dengan database\n",
    "connection = databases.cursor()\n",
    "#Eksekusi kode untuk melihat semua isi tabel\n",
    "connection.execute(\"select count(film_id) from film where rating = 'R' and replacement_cost between 5 and 15\")\n",
    "myresult = connection.fetchall()\n",
    "\n",
    "for x in myresult:\n",
    "  print(f\"the numbers of film which has a rating of 'R' and a replacement cose between $5 and $15 are: {x[0]}\")"
   ]
  },
  {
   "cell_type": "markdown",
   "metadata": {},
   "source": [
    "c.\tWe have two staff members with staff IDs 1 and 2. We want to give a bonus to the staff member that handled the most payments. How many payments did each staff member handle? And how much was the total amount processed by each staff member?"
   ]
  },
  {
   "cell_type": "code",
   "execution_count": 13,
   "metadata": {},
   "outputs": [
    {
     "name": "stdout",
     "output_type": "stream",
     "text": [
      "The result of payments did each staff member handle:\n"
     ]
    },
    {
     "data": {
      "text/html": [
       "<div>\n",
       "<style scoped>\n",
       "    .dataframe tbody tr th:only-of-type {\n",
       "        vertical-align: middle;\n",
       "    }\n",
       "\n",
       "    .dataframe tbody tr th {\n",
       "        vertical-align: top;\n",
       "    }\n",
       "\n",
       "    .dataframe thead th {\n",
       "        text-align: right;\n",
       "    }\n",
       "</style>\n",
       "<table border=\"1\" class=\"dataframe\">\n",
       "  <thead>\n",
       "    <tr style=\"text-align: right;\">\n",
       "      <th></th>\n",
       "      <th>username</th>\n",
       "      <th>staff_id</th>\n",
       "      <th>total_amout</th>\n",
       "      <th>total_handle</th>\n",
       "    </tr>\n",
       "  </thead>\n",
       "  <tbody>\n",
       "    <tr>\n",
       "      <th>0</th>\n",
       "      <td>Jon</td>\n",
       "      <td>2</td>\n",
       "      <td>31059.92</td>\n",
       "      <td>7304</td>\n",
       "    </tr>\n",
       "    <tr>\n",
       "      <th>1</th>\n",
       "      <td>Mike</td>\n",
       "      <td>1</td>\n",
       "      <td>30252.12</td>\n",
       "      <td>7292</td>\n",
       "    </tr>\n",
       "  </tbody>\n",
       "</table>\n",
       "</div>"
      ],
      "text/plain": [
       "  username  staff_id total_amout  total_handle\n",
       "0      Jon         2    31059.92          7304\n",
       "1     Mike         1    30252.12          7292"
      ]
     },
     "execution_count": 13,
     "metadata": {},
     "output_type": "execute_result"
    }
   ],
   "source": [
    "connection = databases.cursor()\n",
    "#Eksekusi kode untuk melihat semua isi tabel\n",
    "connection.execute(\"select username, staff_id, sum(amount) total_amount, count(payment_id ) total_handle from (select s.first_name, s.username, p.amount, p.payment_id , s.staff_id from payment p full outer join staff s on p.staff_id = s.staff_id order by s.username) table1 group by username, staff_id \")\n",
    "myresult = connection.fetchall()\n",
    "df = DataFrame(myresult)\n",
    "df.columns = ['username','staff_id','total_amout','total_handle']\n",
    "print('The result of payments did each staff member handle:')\n",
    "df"
   ]
  },
  {
   "cell_type": "markdown",
   "metadata": {},
   "source": [
    "Conclution: \n",
    "1. Jon handle 7,304 payments. He is more than high Mike who handle 7,292 payments.\n",
    "2. Jon has total 31,059.92 amounts. He is more than high Mike who has 30,252.12 amounts. \n",
    "3. So, we can conclude that the staff who deserve bonus is Jon. Because Jon has the highest total of amount and payments handle"
   ]
  },
  {
   "cell_type": "markdown",
   "metadata": {},
   "source": [
    "d. Corporate headquarters is auditing the store, they want to know the average replacement cost of movies by rating"
   ]
  },
  {
   "cell_type": "code",
   "execution_count": 30,
   "metadata": {},
   "outputs": [
    {
     "name": "stdout",
     "output_type": "stream",
     "text": [
      "This is the average replacement cost of movies by rating in each store_id: \n"
     ]
    },
    {
     "data": {
      "text/html": [
       "<div>\n",
       "<style scoped>\n",
       "    .dataframe tbody tr th:only-of-type {\n",
       "        vertical-align: middle;\n",
       "    }\n",
       "\n",
       "    .dataframe tbody tr th {\n",
       "        vertical-align: top;\n",
       "    }\n",
       "\n",
       "    .dataframe thead th {\n",
       "        text-align: right;\n",
       "    }\n",
       "</style>\n",
       "<table border=\"1\" class=\"dataframe\">\n",
       "  <thead>\n",
       "    <tr style=\"text-align: right;\">\n",
       "      <th></th>\n",
       "      <th>store_id</th>\n",
       "      <th>rating</th>\n",
       "      <th>avg_replacement_cost</th>\n",
       "    </tr>\n",
       "  </thead>\n",
       "  <tbody>\n",
       "    <tr>\n",
       "      <th>0</th>\n",
       "      <td>1</td>\n",
       "      <td>PG</td>\n",
       "      <td>19.3481081081081081</td>\n",
       "    </tr>\n",
       "    <tr>\n",
       "      <th>1</th>\n",
       "      <td>1</td>\n",
       "      <td>NC-17</td>\n",
       "      <td>20.3211827956989247</td>\n",
       "    </tr>\n",
       "    <tr>\n",
       "      <th>2</th>\n",
       "      <td>1</td>\n",
       "      <td>PG-13</td>\n",
       "      <td>20.4738095238095238</td>\n",
       "    </tr>\n",
       "    <tr>\n",
       "      <th>3</th>\n",
       "      <td>1</td>\n",
       "      <td>R</td>\n",
       "      <td>20.8271040723981900</td>\n",
       "    </tr>\n",
       "    <tr>\n",
       "      <th>4</th>\n",
       "      <td>1</td>\n",
       "      <td>G</td>\n",
       "      <td>20.8402538071065990</td>\n",
       "    </tr>\n",
       "    <tr>\n",
       "      <th>5</th>\n",
       "      <td>2</td>\n",
       "      <td>NC-17</td>\n",
       "      <td>20.2071189979123173</td>\n",
       "    </tr>\n",
       "    <tr>\n",
       "      <th>6</th>\n",
       "      <td>2</td>\n",
       "      <td>R</td>\n",
       "      <td>20.1155411255411255</td>\n",
       "    </tr>\n",
       "    <tr>\n",
       "      <th>7</th>\n",
       "      <td>2</td>\n",
       "      <td>G</td>\n",
       "      <td>20.0857178841309824</td>\n",
       "    </tr>\n",
       "    <tr>\n",
       "      <th>8</th>\n",
       "      <td>2</td>\n",
       "      <td>PG</td>\n",
       "      <td>19.0941666666666667</td>\n",
       "    </tr>\n",
       "    <tr>\n",
       "      <th>9</th>\n",
       "      <td>2</td>\n",
       "      <td>PG-13</td>\n",
       "      <td>20.9007505070993915</td>\n",
       "    </tr>\n",
       "  </tbody>\n",
       "</table>\n",
       "</div>"
      ],
      "text/plain": [
       "   store_id rating avg_replacement_cost\n",
       "0         1     PG  19.3481081081081081\n",
       "1         1  NC-17  20.3211827956989247\n",
       "2         1  PG-13  20.4738095238095238\n",
       "3         1      R  20.8271040723981900\n",
       "4         1      G  20.8402538071065990\n",
       "5         2  NC-17  20.2071189979123173\n",
       "6         2      R  20.1155411255411255\n",
       "7         2      G  20.0857178841309824\n",
       "8         2     PG  19.0941666666666667\n",
       "9         2  PG-13  20.9007505070993915"
      ]
     },
     "execution_count": 30,
     "metadata": {},
     "output_type": "execute_result"
    }
   ],
   "source": [
    "from sqlalchemy import create_engine\n",
    "connection = databases.cursor()\n",
    "#Eksekusi kode untuk melihat semua isi tabel\n",
    "connection.execute(\"select store_id, rating, sum(replacement_cost)/count(replacement_cost) as mean_replacement_cost from (select i.store_id, f.rating, replacement_cost from film f right join inventory i on i.film_id = f.film_id) g group by rating,store_id order by store_id \")\n",
    "myresult = connection.fetchall()\n",
    "df = DataFrame(myresult)\n",
    "df.columns =['store_id','rating','avg_replacement_cost']\n",
    "print('This is the average replacement cost of movies by rating in each store_id: ')\n",
    "df"
   ]
  },
  {
   "cell_type": "markdown",
   "metadata": {},
   "source": [
    "e. We want to send coupons to the 5 customers who have spent the most amount of money. Get the customer name, email and their spent amount!"
   ]
  },
  {
   "cell_type": "code",
   "execution_count": 15,
   "metadata": {},
   "outputs": [
    {
     "data": {
      "text/html": [
       "<div>\n",
       "<style scoped>\n",
       "    .dataframe tbody tr th:only-of-type {\n",
       "        vertical-align: middle;\n",
       "    }\n",
       "\n",
       "    .dataframe tbody tr th {\n",
       "        vertical-align: top;\n",
       "    }\n",
       "\n",
       "    .dataframe thead th {\n",
       "        text-align: right;\n",
       "    }\n",
       "</style>\n",
       "<table border=\"1\" class=\"dataframe\">\n",
       "  <thead>\n",
       "    <tr style=\"text-align: right;\">\n",
       "      <th></th>\n",
       "      <th>name</th>\n",
       "      <th>email</th>\n",
       "      <th>total_amout</th>\n",
       "    </tr>\n",
       "  </thead>\n",
       "  <tbody>\n",
       "    <tr>\n",
       "      <th>0</th>\n",
       "      <td>Eleanor Hunt</td>\n",
       "      <td>eleanor.hunt@sakilacustomer.org</td>\n",
       "      <td>211.55</td>\n",
       "    </tr>\n",
       "    <tr>\n",
       "      <th>1</th>\n",
       "      <td>Karl Seal</td>\n",
       "      <td>karl.seal@sakilacustomer.org</td>\n",
       "      <td>208.58</td>\n",
       "    </tr>\n",
       "    <tr>\n",
       "      <th>2</th>\n",
       "      <td>Marion Snyder</td>\n",
       "      <td>marion.snyder@sakilacustomer.org</td>\n",
       "      <td>194.61</td>\n",
       "    </tr>\n",
       "    <tr>\n",
       "      <th>3</th>\n",
       "      <td>Rhonda Kennedy</td>\n",
       "      <td>rhonda.kennedy@sakilacustomer.org</td>\n",
       "      <td>191.62</td>\n",
       "    </tr>\n",
       "    <tr>\n",
       "      <th>4</th>\n",
       "      <td>Clara Shaw</td>\n",
       "      <td>clara.shaw@sakilacustomer.org</td>\n",
       "      <td>189.60</td>\n",
       "    </tr>\n",
       "  </tbody>\n",
       "</table>\n",
       "</div>"
      ],
      "text/plain": [
       "             name                              email total_amout\n",
       "0    Eleanor Hunt    eleanor.hunt@sakilacustomer.org      211.55\n",
       "1       Karl Seal       karl.seal@sakilacustomer.org      208.58\n",
       "2   Marion Snyder   marion.snyder@sakilacustomer.org      194.61\n",
       "3  Rhonda Kennedy  rhonda.kennedy@sakilacustomer.org      191.62\n",
       "4      Clara Shaw      clara.shaw@sakilacustomer.org      189.60"
      ]
     },
     "execution_count": 15,
     "metadata": {},
     "output_type": "execute_result"
    }
   ],
   "source": [
    "connection = databases.cursor()\n",
    "#Eksekusi kode untuk melihat semua isi tabel\n",
    "connection.execute(\"select concat(first_name,' ',last_name)as name,email, sum(amount) total_amount from (select c.customer_id, c.first_name,c.last_name, c.email, p.amount from customer c full outer join payment p on c.customer_id = p.customer_id order by p.amount desc)table2 group by email, first_name, last_name order by total_amount desc limit 5\")\n",
    "myresult = connection.fetchall()\n",
    "df = DataFrame(myresult)\n",
    "df.columns = ['name','email','total_amout']\n",
    "df\n"
   ]
  },
  {
   "cell_type": "markdown",
   "metadata": {},
   "source": [
    "f. We want to audit our stock of films in all of our store. How many copies of each movie in each store do we have?"
   ]
  },
  {
   "cell_type": "code",
   "execution_count": 24,
   "metadata": {},
   "outputs": [
    {
     "name": "stdout",
     "output_type": "stream",
     "text": [
      "This is the total copy movies in each store_id:\n"
     ]
    },
    {
     "data": {
      "text/html": [
       "<div>\n",
       "<style scoped>\n",
       "    .dataframe tbody tr th:only-of-type {\n",
       "        vertical-align: middle;\n",
       "    }\n",
       "\n",
       "    .dataframe tbody tr th {\n",
       "        vertical-align: top;\n",
       "    }\n",
       "\n",
       "    .dataframe thead th {\n",
       "        text-align: right;\n",
       "    }\n",
       "</style>\n",
       "<table border=\"1\" class=\"dataframe\">\n",
       "  <thead>\n",
       "    <tr style=\"text-align: right;\">\n",
       "      <th></th>\n",
       "      <th>store_id</th>\n",
       "      <th>copies</th>\n",
       "    </tr>\n",
       "  </thead>\n",
       "  <tbody>\n",
       "    <tr>\n",
       "      <th>0</th>\n",
       "      <td>1</td>\n",
       "      <td>1141550</td>\n",
       "    </tr>\n",
       "    <tr>\n",
       "      <th>1</th>\n",
       "      <td>2</td>\n",
       "      <td>1153239</td>\n",
       "    </tr>\n",
       "  </tbody>\n",
       "</table>\n",
       "</div>"
      ],
      "text/plain": [
       "   store_id   copies\n",
       "0         1  1141550\n",
       "1         2  1153239"
      ]
     },
     "execution_count": 24,
     "metadata": {},
     "output_type": "execute_result"
    }
   ],
   "source": [
    "connection = databases.cursor()\n",
    "#Eksekusi kode untuk melihat semua isi tabel\n",
    "connection.execute(\"select store_id, sum(film_id) as copies from inventory i group by store_id\")\n",
    "myresult = connection.fetchall()\n",
    "df = DataFrame(myresult)\n",
    "df.columns = ['store_id','copies']\n",
    "print('This is the total copy movies in each store_id:')\n",
    "df"
   ]
  },
  {
   "cell_type": "code",
   "execution_count": 33,
   "metadata": {},
   "outputs": [
    {
     "name": "stdout",
     "output_type": "stream",
     "text": [
      "This is the copies of each movie in each store that we have:\n"
     ]
    },
    {
     "data": {
      "text/html": [
       "<div>\n",
       "<style scoped>\n",
       "    .dataframe tbody tr th:only-of-type {\n",
       "        vertical-align: middle;\n",
       "    }\n",
       "\n",
       "    .dataframe tbody tr th {\n",
       "        vertical-align: top;\n",
       "    }\n",
       "\n",
       "    .dataframe thead th {\n",
       "        text-align: right;\n",
       "    }\n",
       "</style>\n",
       "<table border=\"1\" class=\"dataframe\">\n",
       "  <thead>\n",
       "    <tr style=\"text-align: right;\">\n",
       "      <th></th>\n",
       "      <th>title</th>\n",
       "      <th>store_id</th>\n",
       "      <th>copies</th>\n",
       "    </tr>\n",
       "  </thead>\n",
       "  <tbody>\n",
       "    <tr>\n",
       "      <th>0</th>\n",
       "      <td>Fish Opus</td>\n",
       "      <td>1</td>\n",
       "      <td>957</td>\n",
       "    </tr>\n",
       "    <tr>\n",
       "      <th>1</th>\n",
       "      <td>Hamlet Wisdom</td>\n",
       "      <td>1</td>\n",
       "      <td>1576</td>\n",
       "    </tr>\n",
       "    <tr>\n",
       "      <th>2</th>\n",
       "      <td>Silence Kane</td>\n",
       "      <td>1</td>\n",
       "      <td>1594</td>\n",
       "    </tr>\n",
       "    <tr>\n",
       "      <th>3</th>\n",
       "      <td>Gold River</td>\n",
       "      <td>1</td>\n",
       "      <td>730</td>\n",
       "    </tr>\n",
       "    <tr>\n",
       "      <th>4</th>\n",
       "      <td>Mission Zoolander</td>\n",
       "      <td>1</td>\n",
       "      <td>1749</td>\n",
       "    </tr>\n",
       "    <tr>\n",
       "      <th>...</th>\n",
       "      <td>...</td>\n",
       "      <td>...</td>\n",
       "      <td>...</td>\n",
       "    </tr>\n",
       "    <tr>\n",
       "      <th>1516</th>\n",
       "      <td>Ghostbusters Elf</td>\n",
       "      <td>2</td>\n",
       "      <td>710</td>\n",
       "    </tr>\n",
       "    <tr>\n",
       "      <th>1517</th>\n",
       "      <td>Pinocchio Simon</td>\n",
       "      <td>2</td>\n",
       "      <td>2720</td>\n",
       "    </tr>\n",
       "    <tr>\n",
       "      <th>1518</th>\n",
       "      <td>Sting Personal</td>\n",
       "      <td>2</td>\n",
       "      <td>3384</td>\n",
       "    </tr>\n",
       "    <tr>\n",
       "      <th>1519</th>\n",
       "      <td>Outlaw Hanky</td>\n",
       "      <td>2</td>\n",
       "      <td>1296</td>\n",
       "    </tr>\n",
       "    <tr>\n",
       "      <th>1520</th>\n",
       "      <td>Sweden Shining</td>\n",
       "      <td>2</td>\n",
       "      <td>2613</td>\n",
       "    </tr>\n",
       "  </tbody>\n",
       "</table>\n",
       "<p>1521 rows × 3 columns</p>\n",
       "</div>"
      ],
      "text/plain": [
       "                  title  store_id  copies\n",
       "0             Fish Opus         1     957\n",
       "1         Hamlet Wisdom         1    1576\n",
       "2          Silence Kane         1    1594\n",
       "3            Gold River         1     730\n",
       "4     Mission Zoolander         1    1749\n",
       "...                 ...       ...     ...\n",
       "1516   Ghostbusters Elf         2     710\n",
       "1517    Pinocchio Simon         2    2720\n",
       "1518     Sting Personal         2    3384\n",
       "1519       Outlaw Hanky         2    1296\n",
       "1520     Sweden Shining         2    2613\n",
       "\n",
       "[1521 rows x 3 columns]"
      ]
     },
     "execution_count": 33,
     "metadata": {},
     "output_type": "execute_result"
    }
   ],
   "source": [
    "connection = databases.cursor()\n",
    "#Eksekusi kode untuk melihat semua isi tabel\n",
    "connection.execute(\"select f.title,i.store_id, sum(i.film_id) as copies from inventory i left join film f on i.film_id = f.film_id group by store_id, title order by store_id\")\n",
    "myresult = connection.fetchall()\n",
    "df = DataFrame(myresult)\n",
    "df.columns = ['title','store_id','copies']\n",
    "print('This is the copies of each movie in each store that we have:')\n",
    "df.to_csv('copies_each_store_title.csv', index = False)\n",
    "df"
   ]
  },
  {
   "cell_type": "markdown",
   "metadata": {},
   "source": [
    "g.\tWe want to know what customers are eligible for our platinum credit card. The requirements are that the customer has at least a total of 40 transaction payments. Get the customer name, email who are eligible for the credit card!"
   ]
  },
  {
   "cell_type": "code",
   "execution_count": 27,
   "metadata": {},
   "outputs": [
    {
     "name": "stdout",
     "output_type": "stream",
     "text": [
      "So, there 3 eligible customers to get platinum credit card. this is it: \n"
     ]
    },
    {
     "data": {
      "text/html": [
       "<div>\n",
       "<style scoped>\n",
       "    .dataframe tbody tr th:only-of-type {\n",
       "        vertical-align: middle;\n",
       "    }\n",
       "\n",
       "    .dataframe tbody tr th {\n",
       "        vertical-align: top;\n",
       "    }\n",
       "\n",
       "    .dataframe thead th {\n",
       "        text-align: right;\n",
       "    }\n",
       "</style>\n",
       "<table border=\"1\" class=\"dataframe\">\n",
       "  <thead>\n",
       "    <tr style=\"text-align: right;\">\n",
       "      <th></th>\n",
       "      <th>name</th>\n",
       "      <th>email</th>\n",
       "      <th>total_payment</th>\n",
       "    </tr>\n",
       "  </thead>\n",
       "  <tbody>\n",
       "    <tr>\n",
       "      <th>0</th>\n",
       "      <td>Clara Shaw</td>\n",
       "      <td>clara.shaw@sakilacustomer.org</td>\n",
       "      <td>40</td>\n",
       "    </tr>\n",
       "    <tr>\n",
       "      <th>1</th>\n",
       "      <td>Karl Seal</td>\n",
       "      <td>karl.seal@sakilacustomer.org</td>\n",
       "      <td>42</td>\n",
       "    </tr>\n",
       "    <tr>\n",
       "      <th>2</th>\n",
       "      <td>Eleanor Hunt</td>\n",
       "      <td>eleanor.hunt@sakilacustomer.org</td>\n",
       "      <td>45</td>\n",
       "    </tr>\n",
       "  </tbody>\n",
       "</table>\n",
       "</div>"
      ],
      "text/plain": [
       "           name                            email  total_payment\n",
       "0    Clara Shaw    clara.shaw@sakilacustomer.org             40\n",
       "1     Karl Seal     karl.seal@sakilacustomer.org             42\n",
       "2  Eleanor Hunt  eleanor.hunt@sakilacustomer.org             45"
      ]
     },
     "execution_count": 27,
     "metadata": {},
     "output_type": "execute_result"
    }
   ],
   "source": [
    "connection = databases.cursor()\n",
    "#Eksekusi kode untuk melihat semua isi tabel\n",
    "connection.execute(\"select name, email, transactions from (select concat(c.first_name,' ' , c.last_name) as name,email, count(p.payment_id) transactions, c.customer_id from customer c full outer join payment p on c.customer_id = p.customer_id group by c.customer_id) t where transactions >= 40\")\n",
    "myresult = connection.fetchall()\n",
    "\n",
    "df = DataFrame(myresult)\n",
    "df.columns = ['name','email','total_payment']\n",
    "print('So, there 3 eligible customers to get platinum credit card. this is it: ')\n",
    "df"
   ]
  },
  {
   "cell_type": "markdown",
   "metadata": {},
   "source": [
    "# 2 Python\n",
    "2. Please make a python function that introduce your name, address, date of birth, and print them out into one sentence!\n",
    "\n",
    "Example:\n"
   ]
  },
  {
   "cell_type": "code",
   "execution_count": 35,
   "metadata": {},
   "outputs": [
    {
     "name": "stdout",
     "output_type": "stream",
     "text": [
      "Input name: Ronny\n",
      "Input Adress: Boyolali, Central Java\n",
      "input D.O.B:November 14, 1996\n",
      "\n",
      "My name is Ronny, I live in Boyolali, Central Java, I was born on November 14, 1996.\n"
     ]
    }
   ],
   "source": [
    "name = str(input(\"Input name: \"))\n",
    "Adress = str(input(\"Input Adress: \"))\n",
    "dob = input('input D.O.B:')\n",
    "print()\n",
    "print(f\"My name is {name}, I live in {Adress}, I was born on {dob}.\")"
   ]
  }
 ],
 "metadata": {
  "kernelspec": {
   "display_name": "Python 3",
   "language": "python",
   "name": "python3"
  },
  "language_info": {
   "codemirror_mode": {
    "name": "ipython",
    "version": 3
   },
   "file_extension": ".py",
   "mimetype": "text/x-python",
   "name": "python",
   "nbconvert_exporter": "python",
   "pygments_lexer": "ipython3",
   "version": "3.7.7"
  }
 },
 "nbformat": 4,
 "nbformat_minor": 4
}
